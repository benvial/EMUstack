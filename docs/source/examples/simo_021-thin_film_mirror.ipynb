{
  "cells": [
    {
      "cell_type": "markdown",
      "metadata": {},
      "source": [
        "\n# Metallic multilayer stack\n\nEUMstack loves metal \\m/\nHowever, as we saw in the previous example the substrate layer must be lossless,\nso that we can distinguish propagating waves from evanescent ones.\nTo terminate the stack with a metalic mirror we must make it finite, but very thick.\n"
      ]
    },
    {
      "cell_type": "code",
      "execution_count": null,
      "metadata": {
        "collapsed": false
      },
      "outputs": [],
      "source": [
        "import datetime\nimport time\nfrom multiprocessing import Pool\n\nimport numpy as np\n\nfrom emustack import materials, objects, plotting\nfrom emustack.stack import *\n\nstart = time.time()\n\n# Remove results of previous simulations.\nplotting.clear_previous()\n\n################ Simulation parameters ################\n# Select the number of CPUs to use in simulation.\nnum_cores = 1\n\n################ Light parameters #####################\nwl_1 = 400\nwl_2 = 800\nno_wl_1 = 400\nwavelengths = np.linspace(wl_1, wl_2, no_wl_1)\nlight_list = [\n    objects.Light(wl, max_order_PWs=1, theta=0.0, phi=0.0) for wl in wavelengths\n]\n\n# The period must be consistent throughout a simulation!\nperiod = 300\n\n# Define each layer of the structure, as in last example.\nsuperstrate = objects.ThinFilm(period, height_nm=\"semi_inf\", material=materials.Air)\nTF_2 = objects.ThinFilm(period, height_nm=5e2, material=materials.InP, loss=False)\nTF_3 = objects.ThinFilm(period, height_nm=52, material=materials.Si_a)\n# Realistically a few micron thick mirror would do the trick,\n# but EMUstack is height agnostic.... so what the hell.\nmirror = objects.ThinFilm(period, height_nm=1e5, material=materials.Ag)\nsubstrate = objects.ThinFilm(period, height_nm=\"semi_inf\", material=materials.Air)\n\n\ndef simulate_stack(light):\n    ################ Evaluate each layer individually ##############\n    sim_superstrate = superstrate.calc_modes(light)\n    sim_mirror = mirror.calc_modes(light)\n    sim_TF_2 = TF_2.calc_modes(light)\n    sim_TF_3 = TF_3.calc_modes(light)\n    sim_substrate = substrate.calc_modes(light)\n    ###################### Evaluate structure ######################\n    \"\"\" Now define full structure. Here order is critical and\n        stack list MUST be ordered from bottom to top!\n    \"\"\"\n    # Put semi-inf substrate below thick mirror so that propagating energy is defined.\n    stack = Stack((sim_substrate, sim_mirror, sim_TF_3, sim_TF_2, sim_superstrate))\n    stack.calc_scat(pol=\"TM\")\n\n    return stack\n\n\npool = Pool(num_cores)\nstacks_list = pool.map(simulate_stack, light_list)\n# Save full simo data to .npz file for safe keeping!\nnp.savez(\"Simo_results\", stacks_list=stacks_list)"
      ]
    },
    {
      "cell_type": "markdown",
      "metadata": {},
      "source": [
        "The total transmission should be zero.\n\n"
      ]
    },
    {
      "cell_type": "code",
      "execution_count": null,
      "metadata": {
        "collapsed": false
      },
      "outputs": [],
      "source": [
        "plotting.t_r_a_plots(stacks_list)"
      ]
    },
    {
      "cell_type": "code",
      "execution_count": null,
      "metadata": {
        "collapsed": false
      },
      "outputs": [],
      "source": [
        "print(\"\\n*******************************************\")\n# Calculate and record the (real) time taken for simulation,\nelapsed = time.time() - start\nhms = str(datetime.timedelta(seconds=elapsed))\nhms_string = (\n    \"Total time for simulation was \\n \\\n    %(hms)s (%(elapsed)12.3f seconds)\"\n    % {\n        \"hms\": hms,\n        \"elapsed\": elapsed,\n    }\n)\nprint(hms_string)\nprint(\"*******************************************\")\nprint(\"\")\n\n# and store this info.\npython_log = open(\"python_log.log\", \"w\")\npython_log.write(hms_string)\npython_log.close()"
      ]
    }
  ],
  "metadata": {
    "kernelspec": {
      "display_name": "Python 3",
      "language": "python",
      "name": "python3"
    },
    "language_info": {
      "codemirror_mode": {
        "name": "ipython",
        "version": 3
      },
      "file_extension": ".py",
      "mimetype": "text/x-python",
      "name": "python",
      "nbconvert_exporter": "python",
      "pygments_lexer": "ipython3",
      "version": "3.11.8"
    }
  },
  "nbformat": 4,
  "nbformat_minor": 0
}