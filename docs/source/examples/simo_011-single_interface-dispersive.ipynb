{
  "cells": [
    {
      "cell_type": "markdown",
      "metadata": {},
      "source": [
        "\n# Single interface dispersive\n\nSimulating an interface between 2 homogeneous, dispersive media.\nWe use multiple CPUs.\n"
      ]
    },
    {
      "cell_type": "code",
      "execution_count": null,
      "metadata": {
        "collapsed": false
      },
      "outputs": [],
      "source": [
        "import datetime\nimport time\nfrom multiprocessing import Pool\n\nimport numpy as np\n\nfrom emustack import materials, objects, plotting\nfrom emustack.stack import *\n\nstart = time.time()"
      ]
    },
    {
      "cell_type": "markdown",
      "metadata": {},
      "source": [
        "We begin by remove all results of previous simulations.\n\n"
      ]
    },
    {
      "cell_type": "code",
      "execution_count": null,
      "metadata": {
        "collapsed": false
      },
      "outputs": [],
      "source": [
        "plotting.clear_previous()\n\n################ Simulation parameters ################\n# Select the number of CPUs to use in simulation.\nnum_cores = 1\n\n################ Light parameters #####################\nwl_1 = 400\nwl_2 = 800\nno_wl_1 = 4\n# Set up light objects (no need to specifiy n_inc as light incident from\n# Air with n_inc = 1.0).\nwavelengths = np.linspace(wl_1, wl_2, no_wl_1)\nlight_list = [\n    objects.Light(wl, max_order_PWs=1, theta=0.0, phi=0.0) for wl in wavelengths\n]"
      ]
    },
    {
      "cell_type": "markdown",
      "metadata": {},
      "source": [
        "The period must be consistent throughout a simulation!\n\n"
      ]
    },
    {
      "cell_type": "code",
      "execution_count": null,
      "metadata": {
        "collapsed": false
      },
      "outputs": [],
      "source": [
        "period = 300"
      ]
    },
    {
      "cell_type": "markdown",
      "metadata": {},
      "source": [
        "Define each layer of the structure, now with dispersive media.\nThe refractive indices are interpolated from tabulated data.\n\n"
      ]
    },
    {
      "cell_type": "code",
      "execution_count": null,
      "metadata": {
        "collapsed": false
      },
      "outputs": [],
      "source": [
        "superstrate = objects.ThinFilm(period, height_nm=\"semi_inf\", material=materials.Air)\nsubstrate = objects.ThinFilm(\n    period, height_nm=\"semi_inf\", material=materials.SiO2\n)  # Amorphous silica\n\n\ndef simulate_stack(light):\n    ################ Evaluate each layer individually ##############\n    sim_superstrate = superstrate.calc_modes(light)\n    sim_substrate = substrate.calc_modes(light)\n    ###################### Evaluate structure ######################\n    \"\"\" Now define full structure. Here order is critical and\n        stack list MUST be ordered from bottom to top!\n    \"\"\"\n\n    stack = Stack((sim_substrate, sim_superstrate))\n    stack.calc_scat(pol=\"TM\")  # This time TM polarised light is incident.\n\n    return stack"
      ]
    },
    {
      "cell_type": "markdown",
      "metadata": {},
      "source": [
        "Run wavelengths in parallel across num_cores CPUs using multiprocessing package.\n\n"
      ]
    },
    {
      "cell_type": "code",
      "execution_count": null,
      "metadata": {
        "collapsed": false
      },
      "outputs": [],
      "source": [
        "pool = Pool(num_cores)\nstacks_list = pool.map(simulate_stack, light_list)"
      ]
    },
    {
      "cell_type": "markdown",
      "metadata": {},
      "source": [
        "Save full simo data to .npz file for safe keeping!\n\n"
      ]
    },
    {
      "cell_type": "code",
      "execution_count": null,
      "metadata": {
        "collapsed": false
      },
      "outputs": [],
      "source": [
        "np.savez(\"Simo_results\", stacks_list=stacks_list)"
      ]
    },
    {
      "cell_type": "markdown",
      "metadata": {},
      "source": [
        "Post Processing\n\nThis time let's visualise the net Transmission scattering matrix,\nwhich describes the propagation of light all the way from the superstrate into\nthe substrate. When studying diffractive layers it is useful to know how many\nof theplane waves of the substrate are propagating, so lets include this.\n\n"
      ]
    },
    {
      "cell_type": "code",
      "execution_count": null,
      "metadata": {
        "collapsed": false
      },
      "outputs": [],
      "source": [
        "wl_num = -1\nT_net = stacks_list[wl_num].T_net\nnu_prop = stacks_list[wl_num].layers[0].num_prop_pw_per_pol\nplotting.vis_scat_mats(T_net, nu_prop_PWs=nu_prop)"
      ]
    },
    {
      "cell_type": "markdown",
      "metadata": {},
      "source": [
        "Let's just plot the spectra and see the effect of changing refractive indices.\n\n"
      ]
    },
    {
      "cell_type": "code",
      "execution_count": null,
      "metadata": {
        "collapsed": false
      },
      "outputs": [],
      "source": [
        "plotting.t_r_a_plots(stacks_list)"
      ]
    },
    {
      "cell_type": "code",
      "execution_count": null,
      "metadata": {
        "collapsed": false
      },
      "outputs": [],
      "source": [
        "print(\"\\n*******************************************\")"
      ]
    },
    {
      "cell_type": "markdown",
      "metadata": {},
      "source": [
        "Calculate and record the (real) time taken for simulation,\n\n"
      ]
    },
    {
      "cell_type": "code",
      "execution_count": null,
      "metadata": {
        "collapsed": false
      },
      "outputs": [],
      "source": [
        "elapsed = time.time() - start\nhms = str(datetime.timedelta(seconds=elapsed))\nhms_string = (\n    \"Total time for simulation was \\n \\\n    %(hms)s (%(elapsed)12.3f seconds)\"\n    % {\n        \"hms\": hms,\n        \"elapsed\": elapsed,\n    }\n)\nprint(hms_string)\nprint(\"*******************************************\")\nprint(\"\")"
      ]
    },
    {
      "cell_type": "markdown",
      "metadata": {},
      "source": [
        "and store this info.\n\n"
      ]
    },
    {
      "cell_type": "code",
      "execution_count": null,
      "metadata": {
        "collapsed": false
      },
      "outputs": [],
      "source": [
        "python_log = open(\"python_log.log\", \"w\")\npython_log.write(hms_string)\npython_log.close()"
      ]
    }
  ],
  "metadata": {
    "kernelspec": {
      "display_name": "Python 3",
      "language": "python",
      "name": "python3"
    },
    "language_info": {
      "codemirror_mode": {
        "name": "ipython",
        "version": 3
      },
      "file_extension": ".py",
      "mimetype": "text/x-python",
      "name": "python",
      "nbconvert_exporter": "python",
      "pygments_lexer": "ipython3",
      "version": "3.11.8"
    }
  },
  "nbformat": 4,
  "nbformat_minor": 0
}