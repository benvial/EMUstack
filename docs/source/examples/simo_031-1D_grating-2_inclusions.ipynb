{
  "cells": [
    {
      "cell_type": "markdown",
      "metadata": {},
      "source": [
        "\n# 1D grating\n\nIncrease complexity of grating to contain 2 inclusions that are interleaved.\n"
      ]
    },
    {
      "cell_type": "code",
      "execution_count": null,
      "metadata": {
        "collapsed": false
      },
      "outputs": [],
      "source": [
        "import time\nimport datetime\nimport numpy as np\nfrom multiprocessing import Pool\n\nfrom emustack import materials\nfrom emustack import objects\nfrom emustack import plotting\nfrom emustack.stack import *\n\nstart = time.time()\n\n# Remove results of previous simulations.\nplotting.clear_previous()\n\n################ Simulation parameters ################\n# Select the number of CPUs to use in simulation.\nnum_cores = 2\n\n################ Light parameters #####################\nwl_1     = 400\nwl_2     = 800\nno_wl_1  = 2\nwavelengths = np.linspace(wl_1, wl_2, no_wl_1)\nlight_list  = [objects.Light(wl, max_order_PWs = 5, theta = 0.0, phi = 0.0) for wl in wavelengths]\n\n# The period must be consistent throughout a simulation!\nperiod = 300\n\n# Define each layer of the structure\n# We need to inform EMUstack at this point that all layers in the stack will\n# be at most be periodic in one dimension (i.e. there are no '2D_arrays's).\nsuperstrate = objects.ThinFilm(period, height_nm = 'semi_inf', world_1d=True,\n    material = materials.Air)\n\nsubstrate   = objects.ThinFilm(period, height_nm = 'semi_inf', world_1d=True,\n    material = materials.Air)\n# Define 1D grating that is periodic in x and contains 2 interleaved inclusions.\n# Inclusion_a is in the center of the unit cell. Inclusion_b has diameter\n# diameter2 and can be of a different refractive index and by default the\n# centers of the inclusions are seperated by period/2.\n# See Fortran Backends section of tutorial for more details.\ngrating = objects.NanoStruct('1D_array', period, int(round(0.15*period)),\n    diameter2 = int(round(0.27*period)), height_nm = 2900,\n    background = materials.Material(1.46 + 0.0j), inclusion_a = materials.Material(5.0 + 0.0j),\n    inclusion_b = materials.Material(3.0 + 0.0j),\n    loss = True, lc_bkg = 0.0051)\n# To dictate the seperation of the inclusions set the Keyword Arg small_space to the\n# distance (in nm) between between the inclusions edges.\ngrating_2 = objects.NanoStruct('1D_array', period, int(round(0.15*period)),\n    diameter2 = int(round(0.27*period)), small_space = 50, height_nm = 2900,\n    background = materials.Material(1.46 + 0.0j), inclusion_a = materials.Material(5.0 + 0.0j),\n    inclusion_b = materials.Material(3.0 + 0.0j),\n    loss = True, lc_bkg = 0.0051)\n\ndef simulate_stack(light):\n    ################ Evaluate each layer individually ##############\n    sim_superstrate = superstrate.calc_modes(light)\n    sim_grating     = grating.calc_modes(light)\n    sim_substrate   = substrate.calc_modes(light)\n    ###################### Evaluate structure ######################\n    \"\"\" Now define full structure. Here order is critical and\n        stack list MUST be ordered from bottom to top!\n    \"\"\"\n    # For demonstration we only simulate one of the gratings defined above.\n    stack = Stack((sim_substrate, sim_grating, sim_superstrate))\n    stack.calc_scat(pol = 'TE')\n\n    return stack\n\npool = Pool(num_cores)\nstacks_list = pool.map(simulate_stack, light_list)\n# Save full simo data to .npz file for safe keeping!\nnp.savez('Simo_results', stacks_list=stacks_list)"
      ]
    },
    {
      "cell_type": "markdown",
      "metadata": {},
      "source": [
        "The total transmission should be zero.\n\n"
      ]
    },
    {
      "cell_type": "code",
      "execution_count": null,
      "metadata": {
        "collapsed": false
      },
      "outputs": [],
      "source": [
        "plotting.t_r_a_plots(stacks_list)"
      ]
    },
    {
      "cell_type": "code",
      "execution_count": null,
      "metadata": {
        "collapsed": false
      },
      "outputs": [],
      "source": [
        "print('\\n*******************************************')\n# Calculate and record the (real) time taken for simulation,\nelapsed = (time.time() - start)\nhms     = str(datetime.timedelta(seconds=elapsed))\nhms_string = 'Total time for simulation was \\n \\\n    %(hms)s (%(elapsed)12.3f seconds)'% {\n            'hms'       : hms,\n            'elapsed'   : elapsed, }\nprint(hms_string)\nprint('*******************************************')\nprint('')\n\n# and store this info.\npython_log = open(\"python_log.log\", \"w\")\npython_log.write(hms_string)\npython_log.close()"
      ]
    }
  ],
  "metadata": {
    "kernelspec": {
      "display_name": "Python 3",
      "language": "python",
      "name": "python3"
    },
    "language_info": {
      "codemirror_mode": {
        "name": "ipython",
        "version": 3
      },
      "file_extension": ".py",
      "mimetype": "text/x-python",
      "name": "python",
      "nbconvert_exporter": "python",
      "pygments_lexer": "ipython3",
      "version": "3.11.8"
    }
  },
  "nbformat": 4,
  "nbformat_minor": 0
}