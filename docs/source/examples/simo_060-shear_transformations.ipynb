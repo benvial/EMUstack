{
  "cells": [
    {
      "cell_type": "markdown",
      "metadata": {},
      "source": [
        "\n# Shear transformations\n\nHere we introduce a shear transformation to shift layers relative to one\nanother in the plane.\n"
      ]
    },
    {
      "cell_type": "code",
      "execution_count": null,
      "metadata": {
        "collapsed": false
      },
      "outputs": [],
      "source": [
        "import datetime\nimport time\nfrom multiprocessing import Pool\n\nimport numpy as np\n\nfrom emustack import materials, objects, plotting\nfrom emustack.stack import *\n\nstart = time.time()\n################ Simulation parameters ################\n\n# Number of CPUs to use in simulation\nnum_cores = 1\n\n# Remove results of previous simulations\nplotting.clear_previous()\n\n################ Light parameters #####################\nazi_angles = np.linspace(0, 20, 5)\nwl = 1600\nlight_list = [objects.Light(wl, max_order_PWs=2, theta=p, phi=0.0) for p in azi_angles]\n\n################ Grating parameters #####################\nperiod = 760\n\nsuperstrate = objects.ThinFilm(\n    period, height_nm=\"semi_inf\", material=materials.Air, world_1d=True, loss=False\n)\n\nsubstrate = objects.ThinFilm(\n    period, height_nm=\"semi_inf\", material=materials.Air, world_1d=True, loss=False\n)\n\ngrating_1 = objects.NanoStruct(\n    \"1D_array\",\n    period,\n    small_space=period / 2,\n    diameter1=int(round(0.25 * period)),\n    diameter2=int(round(0.25 * period)),\n    height_nm=150,\n    inclusion_a=materials.Material(3.61 + 0.0j),\n    inclusion_b=materials.Material(3.61 + 0.0j),\n    background=materials.Material(1.46 + 0.0j),\n    loss=True,\n    make_mesh_now=True,\n    force_mesh=False,\n    lc_bkg=0.05,\n    lc2=1.0,\n)\n\ngrating_2 = objects.NanoStruct(\n    \"1D_array\",\n    period,\n    int(round(0.75 * period)),\n    height_nm=2900,\n    background=materials.Material(1.46 + 0.0j),\n    inclusion_a=materials.Material(3.61 + 0.0j),\n    loss=True,\n    make_mesh_now=True,\n    force_mesh=False,\n    lc_bkg=0.05,\n    lc2=1.0,\n)\n\nnum_BMs = 60\n\n\ndef simulate_stack(light):\n    ################ Evaluate each layer individually ##############\n    sim_superstrate = superstrate.calc_modes(light)\n    sim_substrate = substrate.calc_modes(light)\n    sim_grating_1 = grating_1.calc_modes(light, num_BMs=num_BMs)\n    sim_grating_2 = grating_2.calc_modes(light, num_BMs=num_BMs)\n\n    ###################### Evaluate structure ######################\n    \"\"\" Now define full structure. Here order is critical and\n        stack list MUST be ordered from bottom to top!\n    \"\"\"\n\n    # Shear is relative to top layer (ie incident light) and in units of d.\n    stack = Stack(\n        (sim_substrate, sim_grating_1, sim_grating_2, sim_superstrate),\n        shears=([(0.1,), (-0.3,), (0.2,)]),\n    )\n    stack.calc_scat(pol=\"TE\")\n\n    return stack\n\n\n# Run in parallel across wavelengths.\npool = Pool(num_cores)\nstacks_list = pool.map(simulate_stack, light_list)\n# Save full simo data to .npz file for safe keeping!\nnp.savez(\"Simo_results\", stacks_list=stacks_list)\n\nplotting.t_r_a_plots(stacks_list)"
      ]
    },
    {
      "cell_type": "markdown",
      "metadata": {},
      "source": [
        "Calculate and record the (real) time taken for simulation\n\n"
      ]
    },
    {
      "cell_type": "code",
      "execution_count": null,
      "metadata": {
        "collapsed": false
      },
      "outputs": [],
      "source": [
        "elapsed = time.time() - start\nhms = str(datetime.timedelta(seconds=elapsed))\nhms_string = (\n    \"Total time for simulation was \\n \\\n    %(hms)s (%(elapsed)12.3f seconds)\"\n    % {\n        \"hms\": hms,\n        \"elapsed\": elapsed,\n    }\n)\n\npython_log = open(\"python_log.log\", \"w\")\npython_log.write(hms_string)\npython_log.close()\n\nprint(hms_string)\nprint(\"*******************************************\")\nprint(\"\")"
      ]
    }
  ],
  "metadata": {
    "kernelspec": {
      "display_name": "Python 3",
      "language": "python",
      "name": "python3"
    },
    "language_info": {
      "codemirror_mode": {
        "name": "ipython",
        "version": 3
      },
      "file_extension": ".py",
      "mimetype": "text/x-python",
      "name": "python",
      "nbconvert_exporter": "python",
      "pygments_lexer": "ipython3",
      "version": "3.11.8"
    }
  },
  "nbformat": 4,
  "nbformat_minor": 0
}