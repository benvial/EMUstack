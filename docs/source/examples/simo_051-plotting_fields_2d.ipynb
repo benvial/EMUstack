{
  "cells": [
    {
      "cell_type": "markdown",
      "metadata": {},
      "source": [
        "\n# Plotting fields for 2d arrays\n\nShow how to plot electric fields.\n"
      ]
    },
    {
      "cell_type": "code",
      "execution_count": null,
      "metadata": {
        "collapsed": false
      },
      "outputs": [],
      "source": [
        "import datetime\nimport time\nfrom multiprocessing import Pool\n\nimport numpy as np\nimport testing\n\nfrom emustack import materials, objects, plotting\nfrom emustack.stack import *\n\nstart = time.time()\n################ Simulation parameters ################\n\n# Number of CPUs to use in simulation\nnum_cores = 1\n\n# Remove results of previous simulations\nplotting.clear_previous()\n\n################ Light parameters #####################\nwl = 615\nlight_list = [objects.Light(wl, max_order_PWs=2, theta=0.0, phi=0.0)]\n\n# Period must be consistent throughout simulation!!!\nperiod = 600\n\nsuperstrate = objects.ThinFilm(\n    period, height_nm=\"semi_inf\", material=materials.Air, loss=False\n)\n\nsubstrate = objects.ThinFilm(\n    period, height_nm=\"semi_inf\", material=materials.Air, loss=False\n)\n\nspacer = objects.ThinFilm(period, height_nm=200, material=materials.SiO2, loss=True)\n\nNW_diameter = 120\nNW_array = objects.NanoStruct(\n    \"2D_array\",\n    period,\n    NW_diameter,\n    height_nm=2330,\n    inclusion_a=materials.Si_c,\n    background=materials.Air,\n    loss=True,\n    make_mesh_now=True,\n    force_mesh=True,\n    lc_bkg=0.2,\n    lc2=2.0,\n    plotting_fields=True,\n)\n\n\ndef simulate_stack(light):\n\n    ################ Evaluate each layer individually ##############\n    sim_superstrate = superstrate.calc_modes(light)\n    sim_substrate = substrate.calc_modes(light)\n    sim_NWs = NW_array.calc_modes(light)\n    sim_spacer = spacer.calc_modes(light)\n\n    ###################### Evaluate structure ######################\n    \"\"\" Now define full structure. Here order is critical and\n        stack list MUST be ordered from bottom to top!\n    \"\"\"\n\n    stack = Stack((sim_substrate, sim_spacer, sim_NWs, sim_superstrate))\n    stack.calc_scat(pol=\"TE\")\n\n    return stack\n\n\n# Run in parallel across wavelengths.\n# pool = Pool(num_cores)\nstacks_list = map(simulate_stack, light_list)\n# Save full simo data to .npz file for safe keeping!\nnp.savez(\"Simo_results\", stacks_list=stacks_list)"
      ]
    },
    {
      "cell_type": "code",
      "execution_count": null,
      "metadata": {
        "collapsed": false
      },
      "outputs": [],
      "source": [
        "# Plot fields on slices through stack along the x & y axis,\n# and along the diagonals.\n# This is done through all layers of the stack and saved as png files.\n#\n# Note that all field plots of previous simulations are deleted! Move any\n# results that you wish to keep into a different folder, ideally copying the\n# whole simo directory to future reference to simo parameters.\n#\nplotting.fields_vertically(stacks_list)\n\n\n# Plot fields in the x-y plane at a list of specified heights.\nplotting.fields_in_plane(stacks_list, lay_interest=2, z_values=[0.0, 2.0])\nplotting.fields_in_plane(stacks_list, lay_interest=1, z_values=[1.0, 3.2])\n\n# Plot fields inside nanostructures in 3D which are viewed using gmsh.\nplotting.fields_3d(stacks_list, lay_interest=2)\n\n# Save electric field values (all components) at a list of selected point.\nplotting.field_values(\n    stacks_list, lay_interest=0, xyz_values=[(4.0, 2.5, 7.0), (1.0, 1.5, 3.0)]\n)"
      ]
    },
    {
      "cell_type": "markdown",
      "metadata": {},
      "source": [
        "Calculate and record the (real) time taken for simulation\n\n"
      ]
    },
    {
      "cell_type": "code",
      "execution_count": null,
      "metadata": {
        "collapsed": false
      },
      "outputs": [],
      "source": [
        "elapsed = time.time() - start\nhms = str(datetime.timedelta(seconds=elapsed))\nhms_string = (\n    \"Total time for simulation was \\n \\\n    %(hms)s (%(elapsed)12.3f seconds)\"\n    % {\n        \"hms\": hms,\n        \"elapsed\": elapsed,\n    }\n)\n\npython_log = open(\"python_log.log\", \"w\")\npython_log.write(hms_string)\npython_log.close()\n\nprint(hms_string)\nprint(\"*******************************************\")\nprint(\"\")"
      ]
    }
  ],
  "metadata": {
    "kernelspec": {
      "display_name": "Python 3",
      "language": "python",
      "name": "python3"
    },
    "language_info": {
      "codemirror_mode": {
        "name": "ipython",
        "version": 3
      },
      "file_extension": ".py",
      "mimetype": "text/x-python",
      "name": "python",
      "nbconvert_exporter": "python",
      "pygments_lexer": "ipython3",
      "version": "3.11.8"
    }
  },
  "nbformat": 4,
  "nbformat_minor": 0
}