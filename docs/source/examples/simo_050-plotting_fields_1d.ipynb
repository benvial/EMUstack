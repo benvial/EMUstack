{
  "cells": [
    {
      "cell_type": "markdown",
      "metadata": {},
      "source": [
        "\n# Plotting fields\n\nShow how to plot electric fields.\n"
      ]
    },
    {
      "cell_type": "code",
      "execution_count": null,
      "metadata": {
        "collapsed": false
      },
      "outputs": [],
      "source": [
        "import datetime\nimport time\nfrom multiprocessing import Pool\n\nimport numpy as np\n\nfrom emustack import materials, objects, plotting\nfrom emustack.stack import *\n\nstart = time.time()\n################ Simulation parameters ################\n\n# Number of CPUs to use in simulation\nnum_cores = 1\n\n# Remove results of previous simulations\nplotting.clear_previous()\n\n################ Light parameters #####################\nwl = 615\nlight_list = [objects.Light(wl, max_order_PWs=10, theta=0.0, phi=0.0)]\n\n# Period must be consistent throughout simulation!!!\nperiod = 600\n\nsuperstrate = objects.ThinFilm(\n    period, height_nm=\"semi_inf\", world_1d=True, material=materials.Air, loss=False\n)\n\nsubstrate = objects.ThinFilm(\n    period, height_nm=\"semi_inf\", world_1d=True, material=materials.Air, loss=False\n)\n\nspacer = objects.ThinFilm(\n    period, height_nm=200, world_1d=True, material=materials.SiO2, loss=True\n)\n\ngrating = objects.NanoStruct(\n    \"1D_array\",\n    period,\n    int(round(0.7 * period)),\n    height_nm=400,\n    background=materials.Material(1.45 + 0.0j),\n    inclusion_a=materials.Material(3.77 + 0.01j),\n    loss=True,\n    lc_bkg=0.005,\n    plotting_fields=True,\n)\n\n\ndef simulate_stack(light):\n\n    ################ Evaluate each layer individually ##############\n    sim_superstrate = superstrate.calc_modes(light)\n    sim_substrate = substrate.calc_modes(light)\n    sim_grating = grating.calc_modes(light)\n    sim_spacer = spacer.calc_modes(light)\n\n    ###################### Evaluate structure ######################\n    \"\"\" Now define full structure. Here order is critical and\n        stack list MUST be ordered from bottom to top!\n    \"\"\"\n\n    stack = Stack((sim_substrate, sim_spacer, sim_grating, sim_superstrate))\n    stack.calc_scat(pol=\"TE\")\n\n    return stack\n\n\n# Run in parallel across wavelengths.\npool = Pool(num_cores)\nstacks_list = pool.map(simulate_stack, light_list)\n# Save full simo data to .npz file for safe keeping!\nnp.savez(\"Simo_results\", stacks_list=stacks_list)"
      ]
    },
    {
      "cell_type": "code",
      "execution_count": null,
      "metadata": {
        "collapsed": false
      },
      "outputs": [],
      "source": [
        "# Plot fields on slices through stack.\n#\n# Note that all field plots of previous simulations are deleted! Move any\n# results that you wish to keep into a different folder, ideally copying the\n# whole simo directory to future reference to simo parameters.\n#\n# plotting.fields_vertically(stacks_list)\n# # We can also plot only the scattered field (disregarding the incident field)\n# plotting.fields_vertically(stacks_list, no_incoming = True, add_name = '-no_incoming')\n#\n# The above fields are the total fields, we can also look at the fields of\n# each individual Bloch mode, which for a 1D array is done like so,\nplotting.Bloch_fields_1d(stacks_list)"
      ]
    },
    {
      "cell_type": "markdown",
      "metadata": {},
      "source": [
        "Calculate and record the (real) time taken for simulation\n\n"
      ]
    },
    {
      "cell_type": "code",
      "execution_count": null,
      "metadata": {
        "collapsed": false
      },
      "outputs": [],
      "source": [
        "elapsed = time.time() - start\nhms = str(datetime.timedelta(seconds=elapsed))\nhms_string = (\n    \"Total time for simulation was \\n \\\n    %(hms)s (%(elapsed)12.3f seconds)\"\n    % {\n        \"hms\": hms,\n        \"elapsed\": elapsed,\n    }\n)\n\npython_log = open(\"python_log.log\", \"w\")\npython_log.write(hms_string)\npython_log.close()\n\nprint(hms_string)\nprint(\"*******************************************\")\nprint(\"\")"
      ]
    }
  ],
  "metadata": {
    "kernelspec": {
      "display_name": "Python 3",
      "language": "python",
      "name": "python3"
    },
    "language_info": {
      "codemirror_mode": {
        "name": "ipython",
        "version": 3
      },
      "file_extension": ".py",
      "mimetype": "text/x-python",
      "name": "python",
      "nbconvert_exporter": "python",
      "pygments_lexer": "ipython3",
      "version": "3.11.8"
    }
  },
  "nbformat": 4,
  "nbformat_minor": 0
}