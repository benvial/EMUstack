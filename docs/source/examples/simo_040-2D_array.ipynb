{
  "cells": [
    {
      "cell_type": "markdown",
      "metadata": {},
      "source": [
        "\n# Nanowire array\n\nSimulating a nanowire array with period 600 nm and NW diameter 120 nm.\n"
      ]
    },
    {
      "cell_type": "code",
      "execution_count": null,
      "metadata": {
        "collapsed": false
      },
      "outputs": [],
      "source": [
        "import time\nimport datetime\nimport numpy as np\nfrom multiprocessing import Pool\n\nfrom emustack import materials\nfrom emustack import objects\nfrom emustack import plotting\nfrom emustack.stack import *\n\nstart = time.time()\n################ Simulation parameters ################\n\n# Number of CPUs to use in simulation\nnum_cores = 2\n\n# Remove results of previous simulations\nplotting.clear_previous()\n\n################ Light parameters #####################\nwl_1     = 310\nwl_2     = 1127\nno_wl_1  = 3\n# Set up light objects\nwavelengths = np.linspace(wl_1, wl_2, no_wl_1)\nlight_list  = [objects.Light(wl, max_order_PWs = 2, theta = 0.0, phi = 0.0) \\\n    for wl in wavelengths]\n\n# Period must be consistent throughout simulation!!!\nperiod = 600\n\n# In this example we set the number of Bloch modes to use in the simulation\n# Be default it is set to be slightly greater than the number of PWs.\nnum_BMs = 200\n\nsuperstrate = objects.ThinFilm(period, height_nm = 'semi_inf',\n    material = materials.Air, loss = False)\n\nsubstrate  = objects.ThinFilm(period, height_nm = 'semi_inf',\n    material = materials.SiO2, loss = False)\n\nNW_diameter = 120\nNW_array = objects.NanoStruct('2D_array', period, NW_diameter, height_nm = 2330,\n    inclusion_a = materials.Si_c, background = materials.Air, loss = True,\n    make_mesh_now = True, force_mesh = True, lc_bkg = 0.1, lc2= 2.0)\n# Here we get EMUstack to make the FEM mesh automagically using our input parameters.\n# the lc_bkg parameter sets the baseline distance between points on the FEM mesh,\n# lc_bkg/lc2 is the distance between mesh points that lie on the inclusion boundary.\n# There are higher lc parameters which are used when including multiple inclusions.\n\n# Alternatively we can specify a pre-made mesh as follows.\nNW_array2 = objects.NanoStruct('2D_array', period, NW_diameter, height_nm = 2330,\n    inclusion_a = materials.Si_c, background = materials.Air, loss = True,\n    make_mesh_now = False, mesh_file='4testing-600_120.mail')\n\n\ndef simulate_stack(light):\n\n    ################ Evaluate each layer individually ##############\n    sim_superstrate = superstrate.calc_modes(light)\n    sim_substrate   = substrate.calc_modes(light)\n    sim_NWs         = NW_array.calc_modes(light, num_BMs=num_BMs)\n\n    ###################### Evaluate structure ######################\n    \"\"\" Now define full structure. Here order is critical and\n        stack list MUST be ordered from bottom to top!\n    \"\"\"\n\n    stack = Stack((sim_substrate, sim_NWs, sim_superstrate))\n    stack.calc_scat(pol = 'TE')\n\n    return stack\n\n\n# Run in parallel across wavelengths.\npool = Pool(num_cores)\nstacks_list = pool.map(simulate_stack, light_list)\n# Save full simo data to .npz file for safe keeping!\nnp.savez('Simo_results', stacks_list=stacks_list)"
      ]
    },
    {
      "cell_type": "code",
      "execution_count": null,
      "metadata": {
        "collapsed": false
      },
      "outputs": [],
      "source": [
        "# We here wish to know the photovoltaic performance of the structure,\n# where all light absorbed in the NW layer is considered to produce exactly\n# one electron-hole pair.\n# To do this we specify which layer of the stack is the PV active layer\n# (default active_layer_nu=1), and indicate that we want to calculate\n# the ideal short circuit current (J_sc) of the cell.\n# We could also calculate the 'ultimate efficiency' by setting ult_eta=True.\nplotting.t_r_a_plots(stacks_list, active_layer_nu=1, J_sc=True)\n\n# We also plot the dispersion relation for each layer.\nplotting.omega_plot(stacks_list, wavelengths)"
      ]
    },
    {
      "cell_type": "markdown",
      "metadata": {},
      "source": [
        "Calculate and record the (real) time taken for simulation\n\n"
      ]
    },
    {
      "cell_type": "code",
      "execution_count": null,
      "metadata": {
        "collapsed": false
      },
      "outputs": [],
      "source": [
        "elapsed = (time.time() - start)\nhms     = str(datetime.timedelta(seconds=elapsed))\nhms_string = 'Total time for simulation was \\n \\\n    %(hms)s (%(elapsed)12.3f seconds)'% {\n            'hms'       : hms,\n            'elapsed'   : elapsed, }\n\npython_log = open(\"python_log.log\", \"w\")\npython_log.write(hms_string)\npython_log.close()\n\nprint(hms_string)\nprint('*******************************************')\nprint('')"
      ]
    }
  ],
  "metadata": {
    "kernelspec": {
      "display_name": "Python 3",
      "language": "python",
      "name": "python3"
    },
    "language_info": {
      "codemirror_mode": {
        "name": "ipython",
        "version": 3
      },
      "file_extension": ".py",
      "mimetype": "text/x-python",
      "name": "python",
      "nbconvert_exporter": "python",
      "pygments_lexer": "ipython3",
      "version": "3.11.8"
    }
  },
  "nbformat": 4,
  "nbformat_minor": 0
}