{
  "cells": [
    {
      "cell_type": "markdown",
      "metadata": {},
      "source": [
        "\n# Circular dichroism\n\nSimulating circular dichroism effect in elliptic nano hole arrays\nas in T Cao1 and Martin J Cryan doi:10.1088/2040-8978/14/8/085101.\n"
      ]
    },
    {
      "cell_type": "code",
      "execution_count": null,
      "metadata": {
        "collapsed": false
      },
      "outputs": [],
      "source": [
        "import datetime\nimport time\nfrom multiprocessing import Pool\n\nimport numpy as np\n\nfrom emustack import materials, objects, plotting\nfrom emustack.stack import *\n\nstart = time.time()\n################ Simulation parameters ################\n\n# Number of CPUs to use in simulation\nnum_cores = 1\n\n# Remove results of previous simulations\nplotting.clear_previous()\n\n################ Light parameters #####################\nwl_1 = 300\nwl_2 = 1000\nno_wl_1 = 21\n# Set up light objects\nwavelengths = np.linspace(wl_1, wl_2, no_wl_1)\nlight_list = [\n    objects.Light(wl, theta=45, phi=45, max_order_PWs=2) for wl in wavelengths\n]\n\n\n# Period must be consistent throughout simulation!!!\nperiod = 165\ndiam1 = 140\ndiam2 = 60\nellipticity = (float(diam1 - diam2)) / float(diam1)\n\n# Replicating the geometry of the paper we set up a gold layer with elliptical air\n# holes. To get good agreement with the published work we use the Drude model for Au.\n# Note that better physical results are obtained using the tabulated data for Au!\nAu_NHs = objects.NanoStruct(\n    \"2D_array\",\n    period,\n    diam1,\n    inc_shape=\"ellipse\",\n    ellipticity=ellipticity,\n    height_nm=60,\n    inclusion_a=materials.Air,\n    background=materials.Au_drude,\n    loss=True,\n    make_mesh_now=True,\n    force_mesh=True,\n    lc_bkg=0.2,\n    lc2=5.0,\n)\n\nsuperstrate = objects.ThinFilm(\n    period=period, height_nm=\"semi_inf\", material=materials.Air, loss=True\n)\nsubstrate = objects.ThinFilm(\n    period=period, height_nm=\"semi_inf\", material=materials.Air, loss=False\n)\n\n# Again for this example we fix the number of BMs.\nnum_BMs = 50\n\n\ndef simulate_stack(light):\n    ################ Evaluate each layer individually ##############\n    sim_superstrate = superstrate.calc_modes(light)\n    sim_Au = Au_NHs.calc_modes(light, num_BMs=num_BMs)\n    sim_substrate = substrate.calc_modes(light)\n\n    stackSub = Stack((sim_substrate, sim_Au, sim_superstrate))\n    stackSub.calc_scat(pol=\"R Circ\")\n    stackSub2 = Stack((sim_substrate, sim_Au, sim_superstrate))\n    stackSub2.calc_scat(pol=\"L Circ\")\n    saveStack = Stack((sim_substrate, sim_Au, sim_superstrate))\n\n    a_CD = []\n    t_CD = []\n    r_CD = []\n    for i in range(len(stackSub.a_list)):\n        a_CD.append(stackSub.a_list.pop() - stackSub2.a_list.pop())\n    for i in range(len(stackSub.t_list)):\n        t_CD.append(stackSub.t_list.pop() - stackSub2.t_list.pop())\n    for i in range(len(stackSub.r_list)):\n        r_CD.append(stackSub.r_list.pop() - stackSub2.r_list.pop())\n    saveStack.a_list = a_CD\n    saveStack.t_list = t_CD\n    saveStack.r_list = r_CD\n\n    return saveStack\n\n\n# Run in parallel across wavelengths.\npool = Pool(num_cores)\nstacks_list = pool.map(simulate_stack, light_list)\n# Save full simo data to .npz file for safe keeping!\nnp.savez(\"Simo_results\", stacks_list=stacks_list)"
      ]
    },
    {
      "cell_type": "markdown",
      "metadata": {},
      "source": [
        "Just to show how it's done we can add the height of the layer and some extra\ndetails to the file names and plot titles.\n\n"
      ]
    },
    {
      "cell_type": "code",
      "execution_count": null,
      "metadata": {
        "collapsed": false
      },
      "outputs": [],
      "source": [
        "title = \"what_a_lovely_day-\"\n\nplotting.t_r_a_plots(stacks_list, add_height=Au_NHs.height_nm, add_name=title)\n\n\n# Calculate and record the (real) time taken for simulation\nelapsed = time.time() - start\nhms = str(datetime.timedelta(seconds=elapsed))\nhms_string = (\n    \"Total time for simulation was \\n \\\n    %(hms)s (%(elapsed)12.3f seconds)\"\n    % {\n        \"hms\": hms,\n        \"elapsed\": elapsed,\n    }\n)\n\npython_log = open(\"python_log.log\", \"w\")\npython_log.write(hms_string)\npython_log.close()\n\nprint(\"*******************************************\")\nprint(hms_string)\nprint(\"*******************************************\")\nprint(\"\")"
      ]
    }
  ],
  "metadata": {
    "kernelspec": {
      "display_name": "Python 3",
      "language": "python",
      "name": "python3"
    },
    "language_info": {
      "codemirror_mode": {
        "name": "ipython",
        "version": 3
      },
      "file_extension": ".py",
      "mimetype": "text/x-python",
      "name": "python",
      "nbconvert_exporter": "python",
      "pygments_lexer": "ipython3",
      "version": "3.11.8"
    }
  },
  "nbformat": 4,
  "nbformat_minor": 0
}