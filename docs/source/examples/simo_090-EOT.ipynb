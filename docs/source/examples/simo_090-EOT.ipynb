{
  "cells": [
    {
      "cell_type": "markdown",
      "metadata": {},
      "source": [
        "\n# Extraordinary Optical Transmission\n\nSimulating Extraordinary Optical Transmission\nas in H. Liu, P. Lalanne, Nature 452 2008 doi:10.1038/nature06762\n"
      ]
    },
    {
      "cell_type": "code",
      "execution_count": null,
      "metadata": {
        "collapsed": false
      },
      "outputs": [],
      "source": [
        "import datetime\nimport time\nfrom multiprocessing import Pool\n\nimport numpy as np\n\nfrom emustack import materials, objects, plotting\nfrom emustack.stack import *\n\nstart = time.time()\n################ Simulation parameters ################\n\n# Number of CPUs to use in simulation\nnum_cores = 1\n\n# Remove results of previous simulations\nplotting.clear_previous()\n\n################ Light parameters #####################\nwl_1 = 0.85 * 940\nwl_2 = 1.15 * 940\nno_wl_1 = 2\n# Set up light objects\nwavelengths = np.linspace(wl_1, wl_2, no_wl_1)\n# wavelengths = np.array([785,788,790,792,795])\nlight_list = [\n    objects.Light(wl, max_order_PWs=2, theta=0.0, phi=0.0) for wl in wavelengths\n]\n\n\n# period must be consistent throughout simulation!!!\nperiod = 940\ndiam1 = 266\nNHs = objects.NanoStruct(\n    \"2D_array\",\n    period,\n    diam1,\n    height_nm=200,\n    inclusion_a=materials.Air,\n    background=materials.Au,\n    loss=True,\n    inc_shape=\"square\",\n    make_mesh_now=True,\n    force_mesh=True,\n    lc_bkg=0.12,\n    lc2=5.0,\n    lc3=3.0,\n)  # lc_bkg = 0.08, lc2= 5.0)\n\nstrate = objects.ThinFilm(\n    period=period, height_nm=\"semi_inf\", material=materials.Air, loss=False\n)\n\nNH_heights = [200]\n# num_h = 21\n# NH_heights = np.linspace(50,3000,num_h)\n\n\ndef simulate_stack(light):\n    ################ Evaluate each layer individually ##############\n    sim_NHs = NHs.calc_modes(light)\n    sim_strate = strate.calc_modes(light)\n\n    # Loop over heights\n    height_list = []\n    for h in NH_heights:\n        stackSub = Stack((sim_strate, sim_NHs, sim_strate), heights_nm=([h]))\n        stackSub.calc_scat(pol=\"TE\")\n        height_list.append(stackSub)\n\n    return [height_list]\n\n\n# Run in parallel across wavelengths.\npool = Pool(num_cores)\nstacks_list = pool.map(simulate_stack, light_list)\n# Save full simo data to .npz file for safe keeping!\nnp.savez(\"Simo_results\", stacks_list=stacks_list)"
      ]
    },
    {
      "cell_type": "code",
      "execution_count": null,
      "metadata": {
        "collapsed": false
      },
      "outputs": [],
      "source": [
        "last_light_object = light_list.pop()\n\nwls_normed = wavelengths / period\n\nfor h in range(len(NH_heights)):\n    height = NH_heights[h]\n    wl_list = []\n    stack_label = 0\n    for wl in range(len(wavelengths)):\n        wl_list.append(stacks_list[wl][stack_label][h])\n    mess_name = \"_h%(h)i\" % {\n        \"h\": h,\n    }\n    plotting.EOT_plot(wl_list, wls_normed, add_name=mess_name, savetxt=True)\n# Dispersion\nplotting.omega_plot(wl_list, wavelengths)\n\n\n# Calculate and record the (real) time taken for simulation\nelapsed = time.time() - start\nhms = str(datetime.timedelta(seconds=elapsed))\nhms_string = (\n    \"Total time for simulation was \\n \\\n    %(hms)s (%(elapsed)12.3f seconds)\"\n    % {\n        \"hms\": hms,\n        \"elapsed\": elapsed,\n    }\n)\n\npython_log = open(\"python_log.log\", \"w\")\npython_log.write(hms_string)\npython_log.close()\n\nprint(\"*******************************************\")\nprint(hms_string)\nprint(\"*******************************************\")\nprint(\"\")"
      ]
    }
  ],
  "metadata": {
    "kernelspec": {
      "display_name": "Python 3",
      "language": "python",
      "name": "python3"
    },
    "language_info": {
      "codemirror_mode": {
        "name": "ipython",
        "version": 3
      },
      "file_extension": ".py",
      "mimetype": "text/x-python",
      "name": "python",
      "nbconvert_exporter": "python",
      "pygments_lexer": "ipython3",
      "version": "3.11.8"
    }
  },
  "nbformat": 4,
  "nbformat_minor": 0
}