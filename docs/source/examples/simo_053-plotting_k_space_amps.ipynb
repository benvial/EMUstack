{
  "cells": [
    {
      "cell_type": "markdown",
      "metadata": {},
      "source": [
        "\n# PLatting k-space\n\nHere we investigate how efficiently a stack of 1D gratings excite diffraction orders.\n"
      ]
    },
    {
      "cell_type": "code",
      "execution_count": null,
      "metadata": {
        "collapsed": false
      },
      "outputs": [],
      "source": [
        "import datetime\nimport time\nfrom multiprocessing import Pool\n\nimport numpy as np\n\nfrom emustack import materials, objects, plotting\nfrom emustack.stack import *\n\nstart = time.time()\n################ Simulation parameters ################\n\n# Number of CPUs to use in simulation\nnum_cores = 1\n\n# Remove results of previous simulations\nplotting.clear_previous()\n\n################ Light parameters #####################\nazi_angles = np.linspace(-89, 89, 10)\nwl = 100\nlight_list = [objects.Light(wl, max_order_PWs=10, theta=p, phi=0.0) for p in azi_angles]\n\n\n################ Grating parameters #####################\n# The period must be consistent throughout a simulation!\nperiod = 700\n\nsuperstrate = objects.ThinFilm(\n    period, height_nm=\"semi_inf\", material=materials.Air, loss=False, world_1d=True\n)\n\nsubstrate = objects.ThinFilm(\n    period, height_nm=\"semi_inf\", material=materials.Air, loss=False, world_1d=True\n)\n\nabsorber = objects.ThinFilm(\n    period,\n    height_nm=10,\n    material=materials.Material(1.0 + 0.05j),\n    loss=True,\n    world_1d=True,\n)\n\ngrating_1 = objects.NanoStruct(\n    \"1D_array\",\n    period,\n    int(round(0.75 * period)),\n    height_nm=2900,\n    background=materials.Material(1.46 + 0.0j),\n    inclusion_a=materials.Material(3.61 + 0.0j),\n    loss=True,\n    lc_bkg=0.005,\n)\n\n\ndef simulate_stack(light):\n\n    ################ Evaluate each layer individually ##############\n    sim_superstrate = superstrate.calc_modes(light)\n    sim_substrate = substrate.calc_modes(light)\n    sim_absorber = absorber.calc_modes(light)\n    sim_grating_1 = grating_1.calc_modes(light)\n\n    ###################### Evaluate structure ######################\n    \"\"\" Now define full structure. Here order is critical and\n        stack list MUST be ordered from bottom to top!\n    \"\"\"\n\n    stack = Stack((sim_substrate, sim_absorber, sim_grating_1, sim_superstrate))\n    stack.calc_scat(pol=\"TE\")\n\n    return stack\n\n\n# Run in parallel across wavelengths.\npool = Pool(num_cores)\nstacks_list = pool.map(simulate_stack, light_list)\n# Save full simo data to .npz file for safe keeping!\nnp.savez(\"Simo_results\", stacks_list=stacks_list)"
      ]
    },
    {
      "cell_type": "markdown",
      "metadata": {},
      "source": [
        "We can represent the strength with which different orders are excited\nin k-space.\n\n"
      ]
    },
    {
      "cell_type": "code",
      "execution_count": null,
      "metadata": {
        "collapsed": false
      },
      "outputs": [],
      "source": [
        "plotting.t_func_k_plot_1D(stacks_list)\n# This corresponds to Fig 2 of Handmer et al. Optics Lett. 35, 2010.\n# (The PW_amplitudes plots correspond to Fig 1 of this paper).\n\n# Lastly we also plot the transmission, reflection and absorption of each\n# layer and the stack.\nplotting.t_r_a_plots(stacks_list, xvalues=azi_angles)"
      ]
    },
    {
      "cell_type": "markdown",
      "metadata": {},
      "source": [
        "Calculate and record the (real) time taken for simulation\n\n"
      ]
    },
    {
      "cell_type": "code",
      "execution_count": null,
      "metadata": {
        "collapsed": false
      },
      "outputs": [],
      "source": [
        "elapsed = time.time() - start\nhms = str(datetime.timedelta(seconds=elapsed))\nhms_string = (\n    \"Total time for simulation was \\n \\\n    %(hms)s (%(elapsed)12.3f seconds)\"\n    % {\n        \"hms\": hms,\n        \"elapsed\": elapsed,\n    }\n)\n\npython_log = open(\"python_log.log\", \"w\")\npython_log.write(hms_string)\npython_log.close()\n\nprint(hms_string)\nprint(\"*******************************************\")\nprint(\"\")"
      ]
    }
  ],
  "metadata": {
    "kernelspec": {
      "display_name": "Python 3",
      "language": "python",
      "name": "python3"
    },
    "language_info": {
      "codemirror_mode": {
        "name": "ipython",
        "version": 3
      },
      "file_extension": ".py",
      "mimetype": "text/x-python",
      "name": "python",
      "nbconvert_exporter": "python",
      "pygments_lexer": "ipython3",
      "version": "3.11.8"
    }
  },
  "nbformat": 4,
  "nbformat_minor": 0
}