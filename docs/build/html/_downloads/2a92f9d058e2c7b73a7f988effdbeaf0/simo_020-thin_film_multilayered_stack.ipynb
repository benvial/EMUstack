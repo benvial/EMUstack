{
  "cells": [
    {
      "cell_type": "markdown",
      "metadata": {},
      "source": [
        "\n# Multilayered stack\n\nSimulating a stack of homogeneous, dispersive media.\n"
      ]
    },
    {
      "cell_type": "code",
      "execution_count": null,
      "metadata": {
        "collapsed": false
      },
      "outputs": [],
      "source": [
        "import time\nimport datetime\nimport numpy as np\nfrom multiprocessing import Pool\n\nfrom emustack import materials\nfrom emustack import objects\nfrom emustack import plotting\nfrom emustack.stack import *\n\n\nstart = time.time()\n\n# Remove results of previous simulations.\nplotting.clear_previous()\n\n################ Simulation parameters ################\n# Select the number of CPUs to use in simulation.\nnum_cores = 2\n\n################ Light parameters #####################\nwl_1     = 400\nwl_2     = 800\nno_wl_1  = 400\nwavelengths = np.linspace(wl_1, wl_2, no_wl_1)\nlight_list  = [objects.Light(wl, max_order_PWs = 1, theta = 0.0, phi = 0.0) \\\nfor wl in wavelengths]\n\n# The period must be consistent throughout a simulation!\nperiod = 300\n\n# Define each layer of the structure.\nsuperstrate = objects.ThinFilm(period, height_nm = 'semi_inf',\n    material = materials.Air)\n# Define a thin film with (finite) thickness in nm and constant refractive index\nTF_1 = objects.ThinFilm(period, height_nm = 100,\n    material = materials.Material(1.0 + 0.05j))\n# EMUstack calculation time is independent dispersion and thickness of layer!\n# This layer is made of Indium Phosphide, the tabulated refractive index of which\n# is stored in EMUstack/data/\n# We artificially set the imaginary part of the layer to zero for all wavelengths.\nTF_2 = objects.ThinFilm(period, height_nm = 5e2,\n    material = materials.InP, loss=False)\n# By default loss = True\nTF_3 = objects.ThinFilm(period, height_nm = 52,\n    material = materials.Si_a)\n# Note that the semi-inf substrate must be lossess so that EMUstack can distinguish\n# propagating plane waves that carry energy from evanescent waves which do not.\n# This layer is therefore crystalline silicon with Im(n) == 0.\nsubstrate   = objects.ThinFilm(period, height_nm = 'semi_inf',\n    material = materials.Si_c, loss=False)\n\ndef simulate_stack(light):\n    ################ Evaluate each layer individually ##############\n    sim_superstrate = superstrate.calc_modes(light)\n    sim_TF_1 = TF_1.calc_modes(light)\n    sim_TF_2 = TF_2.calc_modes(light)\n    sim_TF_3 = TF_3.calc_modes(light)\n    sim_substrate   = substrate.calc_modes(light)\n    ###################### Evaluate structure ######################\n    \"\"\" Now define full structure. Here order is critical and\n        stack list MUST be ordered from bottom to top!\n    \"\"\"\n# We can now stack these layers of finite thickness however we wish.\n    stack = Stack((sim_substrate, sim_TF_1, sim_TF_3, sim_TF_2, sim_TF_1, \\\n        sim_superstrate))\n    stack.calc_scat(pol = 'TM')\n\n    return stack\n\n# Run wavelengths in parallel across num_cores CPUs using multiprocessing package.\npool = Pool(num_cores)\nstacks_list = pool.map(simulate_stack, light_list)\n# stacks_list = [simulate_stack(l) for l in light_list]\n# Save full simo data to .npz file for safe keeping!\nnp.savez('Simo_results', stacks_list=stacks_list)"
      ]
    },
    {
      "cell_type": "markdown",
      "metadata": {},
      "source": [
        "We will now see the absorption in each individual layer as well as of the stack.\n\n"
      ]
    },
    {
      "cell_type": "code",
      "execution_count": null,
      "metadata": {
        "collapsed": false
      },
      "outputs": [],
      "source": [
        "plotting.t_r_a_plots(stacks_list)"
      ]
    },
    {
      "cell_type": "code",
      "execution_count": null,
      "metadata": {
        "collapsed": false
      },
      "outputs": [],
      "source": [
        "print('\\n*******************************************')\n# Calculate and record the (real) time taken for simulation,\nelapsed = (time.time() - start)\nhms     = str(datetime.timedelta(seconds=elapsed))\nhms_string = 'Total time for simulation was \\n \\\n    %(hms)s (%(elapsed)12.3f seconds)'% {\n            'hms'       : hms,\n            'elapsed'   : elapsed, }\nprint(hms_string)\nprint('*******************************************')\nprint('')\n\n# and store this info.\npython_log = open(\"python_log.log\", \"w\")\npython_log.write(hms_string)\npython_log.close()"
      ]
    }
  ],
  "metadata": {
    "kernelspec": {
      "display_name": "Python 3",
      "language": "python",
      "name": "python3"
    },
    "language_info": {
      "codemirror_mode": {
        "name": "ipython",
        "version": 3
      },
      "file_extension": ".py",
      "mimetype": "text/x-python",
      "name": "python",
      "nbconvert_exporter": "python",
      "pygments_lexer": "ipython3",
      "version": "3.11.8"
    }
  },
  "nbformat": 4,
  "nbformat_minor": 0
}