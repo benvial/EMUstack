{
  "cells": [
    {
      "cell_type": "markdown",
      "metadata": {},
      "source": [
        "\n# Single interface\n\nSimulating an interface between 2 homogeneous, non-dispersive media.\n"
      ]
    },
    {
      "cell_type": "code",
      "execution_count": null,
      "metadata": {
        "collapsed": false
      },
      "outputs": [],
      "source": [
        "import time\nimport datetime\nimport numpy as np\nfrom multiprocessing import Pool\n\nfrom emustack import materials\nfrom emustack import objects\nfrom emustack import plotting\nfrom emustack.stack import *\n\nstart = time.time()"
      ]
    },
    {
      "cell_type": "markdown",
      "metadata": {},
      "source": [
        "## Parameters \n\n"
      ]
    },
    {
      "cell_type": "code",
      "execution_count": null,
      "metadata": {
        "collapsed": false
      },
      "outputs": [],
      "source": [
        "wl_1     = 500\nwl_2     = 600\nno_wl_1  = 4"
      ]
    },
    {
      "cell_type": "markdown",
      "metadata": {},
      "source": [
        "Set up light objects, starting with the wavelengths,\n\n"
      ]
    },
    {
      "cell_type": "code",
      "execution_count": null,
      "metadata": {
        "collapsed": false
      },
      "outputs": [],
      "source": [
        "wavelengths = np.linspace(wl_1, wl_2, no_wl_1)"
      ]
    },
    {
      "cell_type": "markdown",
      "metadata": {},
      "source": [
        "and also specifying angles of incidence and refractive medium of semi-infinite\nlayer that the light is incident upon (default value is n_inc = 1.0).\nFields in homogeneous layers are expressed in a Fourier series of diffraction\norders,where all orders within a radius of max_order_PWs in k-space are included.\n\n"
      ]
    },
    {
      "cell_type": "code",
      "execution_count": null,
      "metadata": {
        "collapsed": false
      },
      "outputs": [],
      "source": [
        "light_list  = [objects.Light(wl, max_order_PWs = 1, theta = 0.0, phi = 0.0, \\\n    n_inc=1.5) for wl in wavelengths]"
      ]
    },
    {
      "cell_type": "markdown",
      "metadata": {},
      "source": [
        "Our structure must have a period, even if this is artificially imposed\non a homogeneous thin film. What's more,\nit is critical that the period be consistent throughout a simulation!\n\n"
      ]
    },
    {
      "cell_type": "code",
      "execution_count": null,
      "metadata": {
        "collapsed": false
      },
      "outputs": [],
      "source": [
        "period = 300"
      ]
    },
    {
      "cell_type": "markdown",
      "metadata": {},
      "source": [
        "Define each layer of the structure.\n\n"
      ]
    },
    {
      "cell_type": "code",
      "execution_count": null,
      "metadata": {
        "collapsed": false
      },
      "outputs": [],
      "source": [
        "superstrate = objects.ThinFilm(period, height_nm = 'semi_inf',\n    material = materials.Material(1.5 + 0.0j))\nsubstrate   = objects.ThinFilm(period, height_nm = 'semi_inf',\n    material = materials.Material(3.0 + 0.0j))"
      ]
    },
    {
      "cell_type": "markdown",
      "metadata": {},
      "source": [
        "## Simulation\n\n"
      ]
    },
    {
      "cell_type": "code",
      "execution_count": null,
      "metadata": {
        "collapsed": false
      },
      "outputs": [],
      "source": [
        "def simulate_stack(light):\n    ################ Evaluate each layer individually ##############\n    sim_superstrate = superstrate.calc_modes(light)\n    sim_substrate   = substrate.calc_modes(light)\n    ###################### Evaluate structure ######################\n    \"\"\" Now define full structure. Here order is critical and\n        stack list MUST be ordered from bottom to top!\n    \"\"\"\n\n    stack = Stack((sim_substrate, sim_superstrate))\n    # Calculate scattering matrices of the stack (for all polarisations).\n    stack.calc_scat(pol = 'TE') # Incident light has TE polarisation,\n    # which only effects the net transmission etc, not the matrices.\n\n    return stack\n\nstacks_list = list(map(simulate_stack, light_list))"
      ]
    },
    {
      "cell_type": "markdown",
      "metadata": {},
      "source": [
        "Save full simo data to .npz file for safe keeping!\n\n"
      ]
    },
    {
      "cell_type": "code",
      "execution_count": null,
      "metadata": {
        "collapsed": false
      },
      "outputs": [],
      "source": [
        "np.savez('Simo_results', stacks_list=stacks_list)"
      ]
    },
    {
      "cell_type": "markdown",
      "metadata": {},
      "source": [
        "Calculation of the modes and scattering matrices of each layer\nas well as the scattering matrices of the interfaces of the stack\nis complete.\nFrom here on we can print, plot or manipulate the results.\n\nAlternatively, you may wish to finish the simo file here,\nand be output into an interactive python instance were you\nhave access to all simulation objects and results for further\nmanipulation. In this case you run this file as\n$ python -i simo_010-single_interface.py\nIn this session the docstrings of objects/classes/methods\ncan be accessed by typing\n\n>>> from pydoc import help\n>>> help(objects.Light)\n\nwhere we have accessed the docstring of the Light class from objects.py\n\n"
      ]
    },
    {
      "cell_type": "markdown",
      "metadata": {},
      "source": [
        "## Post Processing \nWe can retrieve the propagation constants (k_z) of each layer.\nLet's print the values at the short wavelength in the superstrate,\n\n"
      ]
    },
    {
      "cell_type": "code",
      "execution_count": null,
      "metadata": {
        "collapsed": false
      },
      "outputs": [],
      "source": [
        "wl_num = 0\nlay = 1\nbetas = stacks_list[wl_num].layers[lay].k_z\nprint('k_z of superstrate \\n', betas)"
      ]
    },
    {
      "cell_type": "markdown",
      "metadata": {},
      "source": [
        "and save the values for the longest wavelength for the substrate.\n\n"
      ]
    },
    {
      "cell_type": "code",
      "execution_count": null,
      "metadata": {
        "collapsed": false
      },
      "outputs": [],
      "source": [
        "wl_num = -1\nlay = 0\nbetas = stacks_list[wl_num].layers[lay].k_z\nnp.savetxt('Substrate_k_zs.txt', betas.view(float).reshape(-1, 2))"
      ]
    },
    {
      "cell_type": "markdown",
      "metadata": {},
      "source": [
        "Note that saving to txt files is slower than saving data as .npz\nHowever txt files may be easily read by other programs...\n\n\nWe can also access the scattering matrices of individual layers,\nand of interfaces of the stack.\nFor instance the reflection scattering matrix off the top\nof the substrate when considered as an isolated layer.\n\n"
      ]
    },
    {
      "cell_type": "code",
      "execution_count": null,
      "metadata": {
        "collapsed": false
      },
      "outputs": [],
      "source": [
        "wl_num = -1\nlay = 0\nR12_sub = stacks_list[wl_num].layers[lay].R12\nprint('R12 of substrate \\n', R12_sub)"
      ]
    },
    {
      "cell_type": "markdown",
      "metadata": {},
      "source": [
        "The reflection matrix for the reflection off the top of the\nsuperstrate-substrate interface meanwhile is a property of the stack.\n\n"
      ]
    },
    {
      "cell_type": "code",
      "execution_count": null,
      "metadata": {
        "collapsed": false
      },
      "outputs": [],
      "source": [
        "R_interface = stacks_list[wl_num].R_net\n# Let us plot this matrix in greyscale.\nplotting.vis_scat_mats(R_interface)"
      ]
    },
    {
      "cell_type": "markdown",
      "metadata": {},
      "source": [
        "Since all layers are homogeneous this matrix should only have non-zero\nentries on the diagonal.\n\nLastly, we can also plot the transmission, reflection, absorption\nof each layer and of the stack as a whole.\n\n"
      ]
    },
    {
      "cell_type": "code",
      "execution_count": null,
      "metadata": {
        "collapsed": false
      },
      "outputs": [],
      "source": [
        "plotting.t_r_a_plots(stacks_list)"
      ]
    },
    {
      "cell_type": "markdown",
      "metadata": {},
      "source": [
        "p.s. we'll keep an eye on the time...\n\n"
      ]
    },
    {
      "cell_type": "code",
      "execution_count": null,
      "metadata": {
        "collapsed": false
      },
      "outputs": [],
      "source": [
        "print('\\n*******************************************')"
      ]
    },
    {
      "cell_type": "markdown",
      "metadata": {},
      "source": [
        "Wrapping up:\n\nCalculate and record the (real) time taken for simulation,\n\n"
      ]
    },
    {
      "cell_type": "code",
      "execution_count": null,
      "metadata": {
        "collapsed": false
      },
      "outputs": [],
      "source": [
        "elapsed = (time.time() - start)\nhms     = str(datetime.timedelta(seconds=elapsed))\nhms_string = 'Total time for simulation was \\n \\\n    %(hms)s (%(elapsed)12.3f seconds)'% {\n            'hms'       : hms,\n            'elapsed'   : elapsed, }\nprint(hms_string)\nprint('*******************************************')\nprint('')"
      ]
    },
    {
      "cell_type": "markdown",
      "metadata": {},
      "source": [
        "and store this info.\n\n"
      ]
    },
    {
      "cell_type": "code",
      "execution_count": null,
      "metadata": {
        "collapsed": false
      },
      "outputs": [],
      "source": [
        "python_log = open(\"python_log.log\", \"w\")\npython_log.write(hms_string)\npython_log.close()"
      ]
    }
  ],
  "metadata": {
    "kernelspec": {
      "display_name": "Python 3",
      "language": "python",
      "name": "python3"
    },
    "language_info": {
      "codemirror_mode": {
        "name": "ipython",
        "version": 3
      },
      "file_extension": ".py",
      "mimetype": "text/x-python",
      "name": "python",
      "nbconvert_exporter": "python",
      "pygments_lexer": "ipython3",
      "version": "3.11.8"
    }
  },
  "nbformat": 4,
  "nbformat_minor": 0
}